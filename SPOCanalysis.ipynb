{
 "cells": [
  {
   "cell_type": "markdown",
   "metadata": {},
   "source": [
    "Find this project in [Github: UberHowley/SPOC-File-Processing](https://github.com/UberHowley/spoc-file-processing)\n",
    "\n",
    "---\n",
    "\n",
    "# Python Processing of SPOC Logfiles\n",
    "In previous work [detailed here](http://www.irishowley.com/website/pMOOChelpers.html) I found that up- and down-voting had a significant negative effect on the number of peer helpers MOOC students invited to their help seeking thread. Results from a previous survey experiment also suggested that framing tasks with a learning-oriented (or value-emphasized) instruction decreased evaluation anxiety, which is the hypothesized mechanism through which voting inhibits help seeking. Following on this work, I wished to investigate **how voting impacts help seeking in more traditional online course discussion forums** and **if we can alleviate any potential costs of effective participation while still maintaining the benefits of voting in forums**? \n",
    "\n",
    "So this experiment took place in a Small Private Online Course (SPOC) with a more naturalistic up/downvoting setup in a disucssion forum and used prompts that emphasized the value of participating in forums.\n",
    "\n",
    "*I used Python to clean the logfile data, gensim to assign automated [LDA] topics to each message board post, and pandas to perform statistical analyses in order to answer my research questions.*\n",
    "\n",
    "## Research Questions\n",
    "Our QuickHelper system was designed to advise students on which peers they might want to help them, but also to answer  theory-based questions about student motivation and decision-making in the face of common interactional archetypes employed in MOOCs. This yielded the following research questions:\n",
    "1. What is the effect of no/up/downvoting on {learning, posting comments, posting quality comments, help seeking}\n",
    "1. What is the effect of neutral/goal prompting on {learning, posting comments, posting quality comments, help seeking}\n",
    "1. Is there an interaction between votingXprompting on {learning, posting comments, posting quality comments, help seeking}\n",
    "1. What is the relationship between {posting, posting quality, help seeking} and learning?\n",
    "1. Which prompts are the most successful at getting a student response? (Does this change over time?) What about the highest quality responses?\n",
    "1. What behavior features correlate strongly with learning or exam scores? (i.e., can we predict student performance with behaviors in the first couple of weeks?)\n",
    "  1. Is there a correlation between pageviews and performance?\n",
    "  1. What is the most viewed lecture? etc.\n",
    "  1. What lecture is viewed the most by non-students? etc.\n",
    "\n",
    "## Experimental Setup\n",
    "The parallel computing course in which this experiment took place met in-person twice per week for 1:20, but all lecture slides (of which there were 28 sets) were posted [online](http://15418.courses.cs.cmu.edu/spring2015/). Each slide had its own discussion forum-like comments beneath it, as shown below. Students enrolled in the course were required to \"individually contribute one interesting comment per lecture using the course web site\" for a 5% participation grade. The experiment began in the TODO week of the course, and ran for TODO weeks.\n",
    "![SPOC Discussion Forum](http://www.irishowley.com/website/images/proj_spoc_forum.jpg)\n",
    "\n",
    "Approximately 70 consenting students are included in this 3X2 experiment.\n",
    "\n",
    "### Voting\n",
    "There were three voting conditions in this dimension: no voting, upvoting only, and downvoting, as shown below. Each student was assigned to one of these conditions, and they only ever saw one voting condition. There was the issue of cross-contamination of voting conditions, if one student looked at a peer's screen, but the instructors did not see any physical evidence of this cross contamination until the last week of the course.\n",
    "![SPOC Voting Conditions](http://www.irishowley.com/website/images/proj_spoc_voting.jpg)\n",
    "\n",
    "### Prompting\n",
    "Students were also assigned to only one of two prompting conditions: positive (learning-oriented/value-emphasis) or neutral. These prompts were in the form of an email sent through the system, that would have a preset \"welcome prompt\" followed by a customizable \"instructional prompt.\" The welcome prompt was either value-emphasis or neutral in tone, and the instructional prompt was either a general 'restate' request or a more specific in nature, prompting the student to answer a specific question. The welcome prompts were predefined and not customizable by the sender of the prompts, while the instructional portion was customizable.  In order to maintain the utility of the email prompots, instructor-customization had to be supported.\n",
    "\n",
    "<table><tr><td><b>Neutral Welcome Prompt</b></td><td><b>Positive Welcome Prompt</b></td></tr>\n",
    "<tr><td><ul><li>This is a discussion you can participate in.</li>\n",
    "<li>Here is a discussion you can participate in.</li>\n",
    "<li>This is a thread you can participate in.</li>\n",
    "<li>Here’s a thread you can comment on.</li>\n",
    "<li>Here’s a conversation you can comment on.</li>\n",
    "<li>Here’s a conversation you can participate in.</li>\n",
    "<li>Here is a discussion in which you can participate.</li>\n",
    "<li>This is an opportunity to engage in the class discussion.</li>\n",
    "<li>Here is an opportunity for you to engage in the class discussion.</li>\n",
    "<li>Here’s a chance to engage in the discussion.</li>\n",
    "<li>Here’s a chance to jump into the discussion.</li>\n",
    "<li>Here’s an opportunity to jump in.</li>\n",
    "<li>This is a thread you can respond to.</li>\n",
    "<li>Here is a discussion you can respond to.</li>\n",
    "<li>Here’s a conversation to jump in on.</li>\n",
    "<li>Here’s a conversation you can respond to.</li></ul>\n",
    "</td><td><ul><li>Participating in class discussions increases exposure to new ideas.</li>\n",
    "<li>Our class discussion forums increase exposure to new ideas.</li>\n",
    "<li>Exposure to new ideas is one benefit to the class discussion forums.</li>\n",
    "<li>Take some time to explore some new ideas in the class forums.</li>\n",
    "<li>Writing down your thoughts will help you think through complex ideas.</li>\n",
    "<li>Class discussions help you understand concepts, not just memorize them.</li>\n",
    "<li>Participating in class discussions will help you understand the concepts, and not just memorize them.</li>\n",
    "<li>Contributing to the course discussion forums is a good way to learn new things.</li>\n",
    "<li>Participation in course discussions will increase your learning.</li>\n",
    "<li>Expanding on others’ ideas is a great way to learn new things.</li>\n",
    "<li>Participating in the class discussions online will help you learn the concepts better.</li>\n",
    "<li>Asynchronous discussions allow for more thought-processing time.</li>\n",
    "<li>Class discussion forums get you to think through your thoughts.</li>\n",
    "<li>Participation from all students is key to everyone’s learning.</li>\n",
    "<li>Expanding on others’ ideas is a great way to check your own understanding.</li>\n",
    "<li>Writing things down is a great way to check your own understanding.</li></ul>\n",
    "</td></tr></table>\n",
    "\n",
    "<table><tr><td><b>Context - Restate (customizable)</b></td><td><b>Context - Question (customizable)</b></td></tr>\n",
    "<li><tr><td><ul><li>Try to describe what was said on this slide in your own words.</li>\n",
    "<li>Summarize the main point of this slide.</li>\n",
    "<li>Summarize the topic of [Insert concept related to slide here].</li>\n",
    "<li>Summarize, in your own words, what @NAME was trying to say here.</li>\n",
    "<li>Restate, in your own words, what I was trying to explain on this slide.</li>\n",
    "<li>Restate, in your own words, the idea of [Insert concept related to slide here].</li>\n",
    "<li>Restate, in your own words, what @NAME was trying to say here.</li>\n",
    "<li>Try restating, in your own words, what @NAME was saying here.</li>\n",
    "<li>Try and describe the main idea in this slide.</li>\n",
    "<li>Can you summarize the discussion happening here?</li></ul>\n",
    "</td><td><ul><li>Can you answer the question in this discussion?</li>\n",
    "<li>Try to answer the question in this discussion.</li>\n",
    "<li>What’s your answer to this question?</li>\n",
    "<li>How would you answer this question?</li></ul>\n",
    "</td></tr></table>\n",
    "\n",
    "A course instructor might decide to prompt some students to answer another students' question, as this is a valuable learning activity. When a course instructor decides to send an email prompt to a student, the system would randomly select two students. The instructor would select and customize the instructional prompt and upon submitting, the system would send an email to two students, with an appropriate version of a randomly selected welcome prompt. An example email prompt is shown below:\n",
    "![SPOC Email Prompt Example](http://www.irishowley.com/website/images/proj_spoc_prompting.jpg)\n",
    "\n",
    "\n",
    "## Processing Logfiles\n",
    "Processing the logfiles mostly involves: (1) ensuring that only consenting students are included in the dataset, (2) that each comment is assigned an LDA topic, (3) that student names are removed from the dataset, (4) removing course instructors from the dataset, and (5) removing spaces from column headers.\n",
    "\n",
    "## Statistical Analysis\n",
    "I used the pandas and statsmodels libraries to run descriptive statistics, generate plots to better understand the data, and answer our research questions (from above). The main effects of interest were the categorical condition variables, `voting` (updownvote, upvote, novote) & `prompts` (positive, neutral) and a variety of scalar dependent variables (`number of comments`, `comment quality`, `help seeking`, and `learning`)."
   ]
  },
  {
   "cell_type": "code",
   "execution_count": 6,
   "metadata": {
    "collapsed": false
   },
   "outputs": [],
   "source": [
    "# necessary libraries/setup\n",
    "%matplotlib inline\n",
    "import utilsSPOC as utils  # separate file that contains all the constants we need\n",
    "import pandas as pd\n",
    "import matplotlib.pyplot as plt\n",
    "import seaborn as sns  # importing seaborns for its factorplot\n",
    "sns.set_style(\"darkgrid\")\n",
    "\n",
    "data = pd.io.parsers.read_csv(\"150512_spoc_full_data_mod.csv\", encoding=\"utf-8-sig\")\n",
    "conditions = [utils.COL_VOTING, utils.COL_PROMPTS]  # all our categorical IVs of interest\n",
    "covariate = utils.COL_NUM_PROMPTS  # number of prompts received needs to be controlled for\n",
    "outcome = utils.COL_NUM_COMMENTS"
   ]
  },
  {
   "cell_type": "markdown",
   "metadata": {},
   "source": [
    "### Descriptive Statistics\n",
    "Descriptive statistics showed that the mean number of comments students posted was 19 and the median was 17."
   ]
  },
  {
   "cell_type": "code",
   "execution_count": 7,
   "metadata": {
    "collapsed": false
   },
   "outputs": [
    {
     "data": {
      "text/html": [
       "<div style=\"max-height:1000px;max-width:1500px;overflow:auto;\">\n",
       "<table border=\"1\" class=\"dataframe\">\n",
       "  <thead>\n",
       "    <tr style=\"text-align: right;\">\n",
       "      <th></th>\n",
       "      <th>NumComments</th>\n",
       "    </tr>\n",
       "  </thead>\n",
       "  <tbody>\n",
       "    <tr>\n",
       "      <th>count</th>\n",
       "      <td>68.000000</td>\n",
       "    </tr>\n",
       "    <tr>\n",
       "      <th>mean</th>\n",
       "      <td>19.029412</td>\n",
       "    </tr>\n",
       "    <tr>\n",
       "      <th>std</th>\n",
       "      <td>16.363383</td>\n",
       "    </tr>\n",
       "    <tr>\n",
       "      <th>min</th>\n",
       "      <td>0.000000</td>\n",
       "    </tr>\n",
       "    <tr>\n",
       "      <th>25%</th>\n",
       "      <td>5.750000</td>\n",
       "    </tr>\n",
       "    <tr>\n",
       "      <th>50%</th>\n",
       "      <td>17.000000</td>\n",
       "    </tr>\n",
       "    <tr>\n",
       "      <th>75%</th>\n",
       "      <td>26.250000</td>\n",
       "    </tr>\n",
       "    <tr>\n",
       "      <th>max</th>\n",
       "      <td>77.000000</td>\n",
       "    </tr>\n",
       "  </tbody>\n",
       "</table>\n",
       "</div>"
      ],
      "text/plain": [
       "       NumComments\n",
       "count    68.000000\n",
       "mean     19.029412\n",
       "std      16.363383\n",
       "min       0.000000\n",
       "25%       5.750000\n",
       "50%      17.000000\n",
       "75%      26.250000\n",
       "max      77.000000"
      ]
     },
     "execution_count": 7,
     "metadata": {},
     "output_type": "execute_result"
    }
   ],
   "source": [
    "# Min & Max numHelpers should be 0-3\n",
    "df = data[[outcome]]\n",
    "df.describe()"
   ]
  },
  {
   "cell_type": "code",
   "execution_count": 8,
   "metadata": {
    "collapsed": false
   },
   "outputs": [
    {
     "data": {
      "image/png": "[encoded data removed]",
      "text/plain": [
       "<matplotlib.figure.Figure at 0x9566be0>"
      ]
     },
     "metadata": {},
     "output_type": "display_data"
    }
   ],
   "source": [
    "# histogram of num comments\n",
    "fig = plt.figure()\n",
    "ax2 = fig.add_subplot(122)\n",
    "helpers_hist = data[outcome]\n",
    "ax2 = helpers_hist.plot(kind='hist', title=\"Histogram \"+outcome, by=outcome)\n",
    "ax2.locator_params(axis='x')\n",
    "ax2.set_xlabel(outcome)\n",
    "ax2.set_ylabel(\"Count\")\n",
    "\n",
    "fig.tight_layout()"
   ]
  },
  {
   "cell_type": "markdown",
   "metadata": {},
   "source": [
    "When looking at the independent variables, we see a even random assignment to `Condition`, but not to `EncouragementType`, although it's not terribly far off."
   ]
  },
  {
   "cell_type": "code",
   "execution_count": 9,
   "metadata": {
    "collapsed": false
   },
   "outputs": [
    {
     "name": "stdout",
     "output_type": "stream",
     "text": [
      "                  Condition  NumComments\n",
      "Condition                               \n",
      "NOVOTE_GROUP             23    18.869565\n",
      "UPDOWNVOTE_GROUP         25    19.320000\n",
      "UPVOTE_GROUP             20    18.850000\n",
      "                   EncouragementType  NumComments\n",
      "EncouragementType                                \n",
      "NEUTRAL                           41    17.317073\n",
      "POSITIVE                          27    21.629630\n"
     ]
    }
   ],
   "source": [
    "df = data[conditions+[outcome]]\n",
    "for cond in conditions:\n",
    "    print(pd.concat([df.groupby(cond)[cond].count(), df.groupby(cond)[outcome].mean()], axis=1))"
   ]
  },
  {
   "cell_type": "markdown",
   "metadata": {},
   "source": [
    "### Answering Our Research Questions\n",
    "The research questions require a bit of statistics to answer. In the case of a single factor with two levels we use a t-test to determine if the independent variable in question has a significant effect on the outcome variable. In the case of a single factor with more than two levels, we use a one-way Analysis of Variance (ANOVA). With more than one factor we use a two-way ANOVA. These are all essentially similar linear models (ordinary least squares), with slightly different equations or statistics for determining significance. \n",
    "\n",
    "#### What is the effect of no/up/downvoting on {learning, posting comments, posting quality comments, help seeking}\n",
    "*(VotingCondition --> numComments)*\n",
    "\n",
    "To answer this question, we run a one-way ANOVA (since there are more than 2 levels to this one factor). Since the p-value is above 0.05 (i.e., 0.973538) we must accept the null hypothesis that there is no difference between voting conditions on number of posted comments."
   ]
  },
  {
   "cell_type": "code",
   "execution_count": 10,
   "metadata": {
    "collapsed": false
   },
   "outputs": [
    {
     "name": "stdout",
     "output_type": "stream",
     "text": [
      "              df        sum_sq     mean_sq         F    PR(>F)\n",
      "C(Condition)   2      3.342481    1.671240  0.006056  0.993962\n",
      "Residual      65  17936.598696  275.947672       NaN       NaN\n",
      "                            OLS Regression Results                            \n",
      "==============================================================================\n",
      "Dep. Variable:            NumComments   R-squared:                       0.000\n",
      "Model:                            OLS   Adj. R-squared:                 -0.031\n",
      "Method:                 Least Squares   F-statistic:                  0.006056\n",
      "Date:                Sun, 17 May 2015   Prob (F-statistic):              0.994\n",
      "Time:                        16:20:42   Log-Likelihood:                -286.04\n",
      "No. Observations:                  68   AIC:                             578.1\n",
      "Df Residuals:                      65   BIC:                             584.7\n",
      "Df Model:                           2                                         \n",
      "Covariance Type:            nonrobust                                         \n",
      "====================================================================================================\n",
      "                                       coef    std err          t      P>|t|      [95.0% Conf. Int.]\n",
      "----------------------------------------------------------------------------------------------------\n",
      "Intercept                           18.8696      3.464      5.448      0.000        11.952    25.787\n",
      "C(Condition)[T.UPDOWNVOTE_GROUP]     0.4504      4.800      0.094      0.926        -9.135    10.036\n",
      "C(Condition)[T.UPVOTE_GROUP]        -0.0196      5.079     -0.004      0.997       -10.163    10.124\n",
      "==============================================================================\n",
      "Omnibus:                       22.873   Durbin-Watson:                   2.125\n",
      "Prob(Omnibus):                  0.000   Jarque-Bera (JB):               33.148\n",
      "Skew:                           1.338   Prob(JB):                     6.34e-08\n",
      "Kurtosis:                       5.131   Cond. No.                         3.72\n",
      "==============================================================================\n",
      "\n",
      "Warnings:\n",
      "[1] Standard Errors assume that the covariance matrix of the errors is correctly specified.\n"
     ]
    },
    {
     "data": {
      "image/png": "[encoded data removed]",
      "text/plain": [
       "<matplotlib.figure.Figure at 0x8c4e160>"
      ]
     },
     "metadata": {},
     "output_type": "display_data"
    }
   ],
   "source": [
    "# need a few more libraries for ANOVA analysis\n",
    "from statsmodels.formula.api import ols\n",
    "from statsmodels.stats.anova import anova_lm\n",
    "\n",
    "cond = utils.COL_VOTING\n",
    "df = data[[cond, outcome]].dropna()\n",
    "\n",
    "cond_lm = ols(outcome + \" ~ C(\" + cond + \")\", data=df).fit()\n",
    "anova_table = anova_lm(cond_lm)\n",
    "print(anova_table)\n",
    "print(cond_lm.summary())\n",
    "\n",
    "# boxplot \n",
    "fig = plt.figure()\n",
    "ax = fig.add_subplot(111)\n",
    "ax = df.boxplot(outcome, cond, ax=plt.gca())\n",
    "ax.set_xlabel(cond)\n",
    "ax.set_ylabel(outcome)\n",
    "fig.tight_layout()"
   ]
  },
  {
   "cell_type": "markdown",
   "metadata": {},
   "source": [
    "#### Does showing expertise information about potential helpers increase the number of helpers the student invites to her question thread? \n",
    "*(EncouragementType --> numComments)*\n",
    "\n",
    "We run a t-test (since there are only two levels of one factor) and see that the p-value is once again not significant (i.e., 0.29)."
   ]
  },
  {
   "cell_type": "code",
   "execution_count": 11,
   "metadata": {
    "collapsed": false
   },
   "outputs": [
    {
     "name": "stdout",
     "output_type": "stream",
     "text": [
      "t-stat:  -1.06441653318 , p-value:  0.291018839024 , df:  66.0\n"
     ]
    }
   ],
   "source": [
    "from statsmodels.stats.weightstats import ttest_ind\n",
    "cond = utils.COL_PROMPTS\n",
    "df = data[[cond, outcome]].dropna()\n",
    "\n",
    "cat1 = df[df[cond] == 'NEUTRAL'][outcome]\n",
    "cat2 = df[df[cond] == 'POSITIVE'][outcome]\n",
    "\n",
    "tstat, pval, degf = ttest_ind(cat1, cat2)  # returns t-stat, p-value, and degrees of freedom\n",
    "print(\"t-stat: \", tstat, \", p-value: \", pval, \", df: \", degf)  \n",
    "\n",
    "# boxplot\n",
    "if (pval <= 0.1):\n",
    "    fig = plt.figure()\n",
    "    ax = fig.add_subplot(111)\n",
    "    ax = df.boxplot(outcome, cond, ax=plt.gca())\n",
    "    ax.set_xlabel(cond)\n",
    "    ax.set_ylabel(outcome)\n",
    "    fig.tight_layout()"
   ]
  },
  {
   "cell_type": "markdown",
   "metadata": {},
   "source": [
    "#### Is there an interaction between voting X prompting on {learning, posting comments, posting quality comments, help seeking}\n",
    "*Condition X EncouragementType --> numComments*\n",
    "\n",
    "The OLS output is not significant (p = 0.810)."
   ]
  },
  {
   "cell_type": "code",
   "execution_count": 13,
   "metadata": {
    "collapsed": false
   },
   "outputs": [
    {
     "name": "stdout",
     "output_type": "stream",
     "text": [
      "= = = = = = = = NumComments ~ C(Condition) + C(EncouragementType) = = = = = = = =\n",
      "                            OLS Regression Results                            \n",
      "==============================================================================\n",
      "Dep. Variable:            NumComments   R-squared:                       0.017\n",
      "Model:                            OLS   Adj. R-squared:                 -0.029\n",
      "Method:                 Least Squares   F-statistic:                    0.3771\n",
      "Date:                Sun, 17 May 2015   Prob (F-statistic):              0.770\n",
      "Time:                        16:21:44   Log-Likelihood:                -285.45\n",
      "No. Observations:                  68   AIC:                             578.9\n",
      "Df Residuals:                      64   BIC:                             587.8\n",
      "Df Model:                           3                                         \n",
      "Covariance Type:            nonrobust                                         \n",
      "====================================================================================================\n",
      "                                       coef    std err          t      P>|t|      [95.0% Conf. Int.]\n",
      "----------------------------------------------------------------------------------------------------\n",
      "Intercept                           17.1620      3.819      4.494      0.000         9.534    24.790\n",
      "C(Condition)[T.UPDOWNVOTE_GROUP]     0.5870      4.797      0.122      0.903        -8.996    10.170\n",
      "C(Condition)[T.UPVOTE_GROUP]        -0.2757      5.080     -0.054      0.957       -10.424     9.873\n",
      "C(EncouragementType)[T.POSITIVE]     4.3639      4.125      1.058      0.294        -3.877    12.604\n",
      "==============================================================================\n",
      "Omnibus:                       22.171   Durbin-Watson:                   2.154\n",
      "Prob(Omnibus):                  0.000   Jarque-Bera (JB):               30.886\n",
      "Skew:                           1.334   Prob(JB):                     1.96e-07\n",
      "Kurtosis:                       4.945   Cond. No.                         4.02\n",
      "==============================================================================\n",
      "\n",
      "Warnings:\n",
      "[1] Standard Errors assume that the covariance matrix of the errors is correctly specified.\n",
      "\n",
      "= = = = = = = = NumComments ~ C(Condition) * C(EncouragementType) = = = = = = = =\n",
      "                            OLS Regression Results                            \n",
      "==============================================================================\n",
      "Dep. Variable:            NumComments   R-squared:                       0.065\n",
      "Model:                            OLS   Adj. R-squared:                 -0.011\n",
      "Method:                 Least Squares   F-statistic:                    0.8575\n",
      "Date:                Sun, 17 May 2015   Prob (F-statistic):              0.515\n",
      "Time:                        16:21:44   Log-Likelihood:                -283.77\n",
      "No. Observations:                  68   AIC:                             579.5\n",
      "Df Residuals:                      62   BIC:                             592.9\n",
      "Df Model:                           5                                         \n",
      "Covariance Type:            nonrobust                                         \n",
      "=====================================================================================================================================\n",
      "                                                                        coef    std err          t      P>|t|      [95.0% Conf. Int.]\n",
      "-------------------------------------------------------------------------------------------------------------------------------------\n",
      "Intercept                                                            14.8571      4.397      3.379      0.001         6.068    23.646\n",
      "C(Condition)[T.UPDOWNVOTE_GROUP]                                      6.3929      6.020      1.062      0.292        -5.642    18.428\n",
      "C(Condition)[T.UPVOTE_GROUP]                                         -0.1299      6.628     -0.020      0.984       -13.380    13.120\n",
      "C(EncouragementType)[T.POSITIVE]                                     10.2540      7.029      1.459      0.150        -3.796    24.304\n",
      "C(Condition)[T.UPDOWNVOTE_GROUP]:C(EncouragementType)[T.POSITIVE]   -15.6151      9.818     -1.590      0.117       -35.240     4.010\n",
      "C(Condition)[T.UPVOTE_GROUP]:C(EncouragementType)[T.POSITIVE]        -1.0924     10.202     -0.107      0.915       -21.485    19.301\n",
      "==============================================================================\n",
      "Omnibus:                       17.151   Durbin-Watson:                   2.145\n",
      "Prob(Omnibus):                  0.000   Jarque-Bera (JB):               20.682\n",
      "Skew:                           1.137   Prob(JB):                     3.23e-05\n",
      "Kurtosis:                       4.460   Cond. No.                         9.11\n",
      "==============================================================================\n",
      "\n",
      "Warnings:\n",
      "[1] Standard Errors assume that the covariance matrix of the errors is correctly specified.\n"
     ]
    }
   ],
   "source": [
    "col_names = [utils.COL_VOTING, utils.COL_PROMPTS, utils.COL_NUM_COMMENTS]\n",
    "factor_groups = data[col_names].dropna()\n",
    "\n",
    "formula = col_names[2] + \" ~ C(\" + col_names[0] + \") + C(\" + col_names[1] + \")\"\n",
    "formula_interaction = formula.replace('+', '*')\n",
    "\n",
    "print(\"= = = = = = = = \" + formula + \" = = = = = = = =\")\n",
    "lm = ols(formula, data=factor_groups).fit()  # linear model: AIC 578.9\n",
    "print(lm.summary())\n",
    "\n",
    "print(\"\\n= = = = = = = = \" + formula_interaction + \" = = = = = = = =\")\n",
    "lm_interaction = ols(formula_interaction, data=factor_groups).fit()  # interaction linear model: AIC 597.5\n",
    "print(lm_interaction.summary())\n",
    "\n",
    "# First linear model has lower AIC than the interaction linear model, although neither are sigificant."
   ]
  },
  {
   "cell_type": "code",
   "execution_count": null,
   "metadata": {
    "collapsed": false
   },
   "outputs": [],
   "source": [
    "# These are ANOVA tests for determining if different models are significantly different from each other.\n",
    "# Although we know from the previous step that none of these are signficant, so these tests aren't necessary.\n",
    "# In some cases, you could look at the AIC value from the OLS output, and pick the model with a lower AIC.\n",
    "# The ANOVA output provides the F-statistics which are necessary for reporting results.\n",
    "# From: http://statsmodels.sourceforge.net/devel/examples/generated/example_interactions.html\n",
    "\n",
    "# Tests whether the additive linear model is significantly different from the multiplicative (interaction) lin model\n",
    "print(\"= = = = = = = = = = = = = = = = = = = = = = = = = = = = = =\")\n",
    "print(\"= = \" + formula + \" ANOVA = = \")\n",
    "print(\"= = vs. \" + formula_interaction + \" = =\")\n",
    "print(anova_lm(lm, lm_interaction))\n",
    "\n",
    "# Tests whether the LM of just Condition is significantly different from the additive LM\n",
    "print(\"= = = = = = = = = = = = = = = = = = = = = = = = = = = = = =\")\n",
    "f_just_first = col_names[2] + \" ~ C(\" + col_names[0] + \")\"\n",
    "print(\"= = \" + f_just_first + \" ANOVA = = \")\n",
    "print(\"= = vs. \" + formula + \" = =\")\n",
    "print(anova_lm(ols(f_just_first, data=factor_groups).fit(), ols(formula, data=factor_groups).fit()))\n",
    "\n",
    "# Testing whether the LM of just EncouragementType is significantly different from the additive LM\n",
    "print(\"= = = = = = = = = = = = = = = = = = = = = = = = = = = = = =\")\n",
    "f_just_second = col_names[2] + \" ~ C(\" + col_names[1] + \")\"\n",
    "print(\"= = \" + f_just_second + \" = = \")\n",
    "print(\"= = vs. \" + formula + \" = =\")\n",
    "print(anova_lm(ols(f_just_second, data=factor_groups).fit(), ols(formula, data=factor_groups).fit()))"
   ]
  },
  {
   "cell_type": "code",
   "execution_count": 21,
   "metadata": {
    "collapsed": false
   },
   "outputs": [
    {
     "data": {
      "text/plain": [
       "<matplotlib.figure.Figure at 0x8ed39e8>"
      ]
     },
     "metadata": {},
     "output_type": "display_data"
    },
    {
     "data": {
      "image/png": "[encoded data removed]",
      "text/plain": [
       "<matplotlib.figure.Figure at 0x8f300f0>"
      ]
     },
     "metadata": {},
     "output_type": "display_data"
    },
    {
     "data": {
      "image/png": "[encoded data removed]",
      "text/plain": [
       "<matplotlib.figure.Figure at 0xa844550>"
      ]
     },
     "metadata": {},
     "output_type": "display_data"
    },
    {
     "data": {
      "image/png": "[encoded data removed]",
      "text/plain": [
       "<matplotlib.figure.Figure at 0xa82bb70>"
      ]
     },
     "metadata": {},
     "output_type": "display_data"
    },
    {
     "data": {
      "image/png": "[encoded data removed]",
      "text/plain": [
       "<matplotlib.figure.Figure at 0x8fa2fd0>"
      ]
     },
     "metadata": {},
     "output_type": "display_data"
    }
   ],
   "source": [
    "# plotting\n",
    "from statsmodels.graphics.api import interaction_plot\n",
    "sns.set_context(\"notebook\")\n",
    "\n",
    "fig = plt.figure()\n",
    "ax1 = sns.factorplot(x=col_names[1], y=col_names[2], data=factor_groups, kind='point', ci=95)\n",
    "ax1.set(ylim=(0, 45))\n",
    "ax2 = sns.factorplot(x=col_names[0], y=col_names[2], data=factor_groups, kind='point', ci=95)\n",
    "ax2.set(ylim=(0, 45))\n",
    "ax3 = sns.factorplot(x=col_names[1], hue=col_names[0], y=col_names[2], data=factor_groups, kind='point', ci=95)\n",
    "ax3.set(ylim=(0, 45))\n",
    "\n",
    "sns.set_context(\"poster\")  # larger plots\n",
    "ax4 = factor_groups.boxplot(return_type='axes', column=col_names[2], by=[col_names[1], col_names[0]])\n",
    "\n",
    "plt.tight_layout()"
   ]
  },
  {
   "cell_type": "markdown",
   "metadata": {},
   "source": [
    "### Discussion\n",
    "This analysis so far has only looked at `number of comments` as the dependent variable, of which there does not appear to be any significant effect. However, `comment quality`, `help seeking`, and `learning` are all important dependent variables to examine as well. This analysis is still in progress."
   ]
  },
  {
   "cell_type": "markdown",
   "metadata": {},
   "source": [
    "## Topic Modeling\n",
    "I used gensim to automatically apply topics to each forum comment. Initial analyses have shown no significant effect (p = 0.138) of topic on number of helpers selected, and there's a few possible explanations for that: (1) we don't have the right number of topics to be meaningful, or (2) TODO"
   ]
  },
  {
   "cell_type": "code",
   "execution_count": 7,
   "metadata": {
    "collapsed": false
   },
   "outputs": [
    {
     "name": "stdout",
     "output_type": "stream",
     "text": [
      "      isHelpSeeking\n",
      "count          1305\n",
      "mean      0.4291188\n",
      "std       0.4951401\n",
      "min           False\n",
      "25%               0\n",
      "50%               0\n",
      "75%               1\n",
      "max            True\n"
     ]
    }
   ],
   "source": [
    "data = pd.io.parsers.read_csv(\"150512_spoc_comments_lda.csv\", encoding=\"utf8\")\n",
    "data_topic = data[[utils.COL_LDA, utils.COL_HELP]]\n",
    "\n",
    "print(data_topic.describe())"
   ]
  },
  {
   "cell_type": "code",
   "execution_count": 8,
   "metadata": {
    "collapsed": false
   },
   "outputs": [
    {
     "data": {
      "text/plain": [
       "<seaborn.axisgrid.FacetGrid at 0x87afe48>"
      ]
     },
     "execution_count": 8,
     "metadata": {},
     "output_type": "execute_result"
    },
    {
     "data": {
      "image/png": "[encoded data removed]",
      "text/plain": [
       "<matplotlib.figure.Figure at 0x87af4e0>"
      ]
     },
     "metadata": {},
     "output_type": "display_data"
    }
   ],
   "source": [
    "# histogram of LDA topics\n",
    "sns.factorplot(utils.COL_LDA, data=data_topic, size=6)"
   ]
  },
  {
   "cell_type": "markdown",
   "metadata": {},
   "source": [
    "## Help Seeking\n",
    "I used an extremely naive set of rules to determine if a comment was a help request. , such as identifying if a question mark is included in the message (or the word 'question', or 'struggle' or 'stuck', etc) I identified which entries are most likely help requests and which are not. In the future, a coding scheme should be developed to determine what kinds of help are being sought."
   ]
  },
  {
   "cell_type": "code",
   "execution_count": 35,
   "metadata": {
    "collapsed": true
   },
   "outputs": [],
   "source": [
    "# example code - do not execute\n",
    "def is_help_topic(sentence):\n",
    "    if \"help\" in sentence or \"question\" in sentence or \"?\" in sentence or \"dunno\" in sentence or \"n't know\" in sentence:\n",
    "        return True\n",
    "    if \"confus\" in sentence or \"struggl\" in sentence or \"lost\" in sentence or \"stuck\" in sentence or \"know how\" in sentence:\n",
    "        return True\n",
    "    return False"
   ]
  },
  {
   "cell_type": "code",
   "execution_count": 5,
   "metadata": {
    "collapsed": false
   },
   "outputs": [
    {
     "data": {
      "text/html": [
       "<div style=\"max-height:1000px;max-width:1500px;overflow:auto;\">\n",
       "<table border=\"1\" class=\"dataframe\">\n",
       "  <thead>\n",
       "    <tr style=\"text-align: right;\">\n",
       "      <th></th>\n",
       "      <th>isHelpSeeking</th>\n",
       "    </tr>\n",
       "  </thead>\n",
       "  <tbody>\n",
       "    <tr>\n",
       "      <th>count</th>\n",
       "      <td>1305</td>\n",
       "    </tr>\n",
       "    <tr>\n",
       "      <th>mean</th>\n",
       "      <td>0.4291188</td>\n",
       "    </tr>\n",
       "    <tr>\n",
       "      <th>std</th>\n",
       "      <td>0.4951401</td>\n",
       "    </tr>\n",
       "    <tr>\n",
       "      <th>min</th>\n",
       "      <td>False</td>\n",
       "    </tr>\n",
       "    <tr>\n",
       "      <th>25%</th>\n",
       "      <td>0</td>\n",
       "    </tr>\n",
       "    <tr>\n",
       "      <th>50%</th>\n",
       "      <td>0</td>\n",
       "    </tr>\n",
       "    <tr>\n",
       "      <th>75%</th>\n",
       "      <td>1</td>\n",
       "    </tr>\n",
       "    <tr>\n",
       "      <th>max</th>\n",
       "      <td>True</td>\n",
       "    </tr>\n",
       "  </tbody>\n",
       "</table>\n",
       "</div>"
      ],
      "text/plain": [
       "      isHelpSeeking\n",
       "count          1305\n",
       "mean      0.4291188\n",
       "std       0.4951401\n",
       "min           False\n",
       "25%               0\n",
       "50%               0\n",
       "75%               1\n",
       "max            True"
      ]
     },
     "execution_count": 5,
     "metadata": {},
     "output_type": "execute_result"
    },
    {
     "data": {
      "image/png": "[encoded data removed]",
      "text/plain": [
       "<matplotlib.figure.Figure at 0xa3a78d0>"
      ]
     },
     "metadata": {},
     "output_type": "display_data"
    }
   ],
   "source": [
    "data_help = data[[utils.COL_HELP]]\n",
    "# histogram of help requests\n",
    "sns.factorplot(utils.COL_HELP, data=data_help, size=6)\n",
    "data_help.describe()"
   ]
  },
  {
   "cell_type": "markdown",
   "metadata": {},
   "source": [
    "## Conclusion\n",
    "In conclusion, ...TODO: there's still more analysis to do..."
   ]
  },
  {
   "cell_type": "markdown",
   "metadata": {},
   "source": [
    "---\n",
    "## Documentation\n",
    "Find this project in [Github: UberHowley/SPOC-File-Processing](https://github.com/UberHowley/spoc-file-processing)\n",
    "\n",
    "\n"
   ]
  }
 ],
 "metadata": {
  "kernelspec": {
   "display_name": "Python 3",
   "language": "python",
   "name": "python3"
  },
  "language_info": {
   "codemirror_mode": {
    "name": "ipython",
    "version": 3
   },
   "file_extension": ".py",
   "mimetype": "text/x-python",
   "name": "python",
   "nbconvert_exporter": "python",
   "pygments_lexer": "ipython3",
   "version": "3.4.1"
  }
 },
 "nbformat": 4,
 "nbformat_minor": 0
}
